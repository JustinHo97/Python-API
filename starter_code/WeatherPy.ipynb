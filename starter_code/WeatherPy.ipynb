{
 "cells": [
  {
   "cell_type": "markdown",
   "metadata": {},
   "source": [
    "# WeatherPy\n",
    "----\n",
    "\n",
    "#### Note\n",
    "* Instructions have been included for each segment. You do not have to follow them exactly, but they are included to help you think through the steps."
   ]
  },
  {
   "cell_type": "code",
   "execution_count": 2,
   "metadata": {
    "scrolled": true
   },
   "outputs": [],
   "source": [
    "# Dependencies and Setup\n",
    "import matplotlib.pyplot as plt\n",
    "import pandas as pd\n",
    "import numpy as np\n",
    "import requests\n",
    "import time\n",
    "from scipy.stats import linregress\n",
    "\n",
    "# Import API key\n",
    "from api_keys import weather_api_key\n",
    "\n",
    "# Incorporated citipy to determine city based on latitude and longitude\n",
    "from citipy import citipy\n",
    "\n",
    "# Output File (CSV)\n",
    "output_data_file = \"output_data/cities.csv\"\n",
    "\n",
    "# Range of latitudes and longitudes\n",
    "lat_range = (-90, 90)\n",
    "lng_range = (-180, 180)"
   ]
  },
  {
   "cell_type": "markdown",
   "metadata": {},
   "source": [
    "## Generate Cities List"
   ]
  },
  {
   "cell_type": "code",
   "execution_count": 3,
   "metadata": {},
   "outputs": [
    {
     "data": {
      "text/plain": [
       "589"
      ]
     },
     "execution_count": 3,
     "metadata": {},
     "output_type": "execute_result"
    }
   ],
   "source": [
    "# List for holding lat_lngs and cities\n",
    "lat_lngs = []\n",
    "cities = []\n",
    "\n",
    "# Create a set of random lat and lng combinations\n",
    "lats = np.random.uniform(lat_range[0], lat_range[1], size=1500)\n",
    "lngs = np.random.uniform(lng_range[0], lng_range[1], size=1500)\n",
    "lat_lngs = zip(lats, lngs)\n",
    "\n",
    "# Identify nearest city for each lat, lng combination\n",
    "for lat_lng in lat_lngs:\n",
    "    city = citipy.nearest_city(lat_lng[0], lat_lng[1]).city_name\n",
    "    \n",
    "    # If the city is unique, then add it to a our cities list\n",
    "    if city not in cities:\n",
    "        cities.append(city)\n",
    "\n",
    "# Print the city count to confirm sufficient count\n",
    "len(cities)"
   ]
  },
  {
   "cell_type": "markdown",
   "metadata": {},
   "source": [
    "### Perform API Calls\n",
    "* Perform a weather check on each city using a series of successive API calls.\n",
    "* Include a print log of each city as it'sbeing processed (with the city number and city name).\n"
   ]
  },
  {
   "cell_type": "code",
   "execution_count": 30,
   "metadata": {},
   "outputs": [
    {
     "name": "stdout",
     "output_type": "stream",
     "text": [
      "Data collected for beringovskiy. 1/578\n",
      "Data collected for hobart. 2/578\n",
      "Data collected for karaidel. 3/578\n",
      "tsihombe not found. 4/578\n",
      "Data collected for santa rosa. 5/578\n"
     ]
    }
   ],
   "source": [
    "city_data = []\n",
    "for index, city_name in enumerate(cities[:5], start=1):\n",
    "    url = f\"https://api.openweathermap.org/data/2.5/weather?q={city_name}&units=imperial&appid={weather_api_key}\"\n",
    "    try:\n",
    "        response = requests.get(url).json()\n",
    "        city_data.append({\n",
    "            \"city_name\": response[\"name\"],\n",
    "            \"long\": response[\"coord\"][\"lon\"],\n",
    "            \"lat\": response[\"coord\"][\"lat\"],\n",
    "            \"humidity\": response[\"main\"][\"temp\"],\n",
    "            \"humidity\": response[\"main\"][\"humidity\"],\n",
    "            \"cloud\": response[\"clouds\"][\"all\"],\n",
    "            \"wind\": response[\"wind\"][\"speed\"]\n",
    "        })\n",
    "        print(f\"Data collected for {city_name}. {index}/{len(cities)}\")\n",
    "    except:\n",
    "       print(f\"{city_name} not found. {index}/{len(cities)}\")"
   ]
  },
  {
   "cell_type": "code",
   "execution_count": 4,
   "metadata": {
    "scrolled": true
   },
   "outputs": [
    {
     "name": "stdout",
     "output_type": "stream",
     "text": [
      "Data collected for grindavik. 1/589\n",
      "amderma not found. 2/589\n",
      "Data collected for pangnirtung. 3/589\n",
      "Data collected for provideniya. 4/589\n",
      "Data collected for east london. 5/589\n",
      "Data collected for cape town. 6/589\n",
      "Data collected for bredasdorp. 7/589\n",
      "Data collected for albany. 8/589\n",
      "Data collected for port alfred. 9/589\n",
      "Data collected for shimoda. 10/589\n",
      "Data collected for saint anthony. 11/589\n",
      "Data collected for barrow. 12/589\n",
      "Data collected for kruisfontein. 13/589\n",
      "Data collected for rio gallegos. 14/589\n",
      "belushya guba not found. 15/589\n",
      "Data collected for alofi. 16/589\n",
      "Data collected for hobart. 17/589\n",
      "Data collected for severo-kurilsk. 18/589\n",
      "Data collected for bethel. 19/589\n",
      "Data collected for benguela. 20/589\n",
      "Data collected for coahuayana. 21/589\n",
      "Data collected for richards bay. 22/589\n",
      "Data collected for kapaa. 23/589\n",
      "Data collected for yiyang. 24/589\n",
      "Data collected for longyearbyen. 25/589\n",
      "Data collected for opuwo. 26/589\n",
      "Data collected for cayenne. 27/589\n",
      "Data collected for sunrise manor. 28/589\n",
      "Data collected for sioux lookout. 29/589\n",
      "grand centre not found. 30/589\n",
      "Data collected for klaksvik. 31/589\n",
      "Data collected for bluff. 32/589\n",
      "umzimvubu not found. 33/589\n",
      "Data collected for ushuaia. 34/589\n",
      "Data collected for alekseyevka. 35/589\n",
      "Data collected for pevek. 36/589\n",
      "Data collected for khatanga. 37/589\n",
      "Data collected for carmen. 38/589\n",
      "Data collected for mahebourg. 39/589\n",
      "Data collected for butaritari. 40/589\n",
      "Data collected for beloha. 41/589\n",
      "makung not found. 42/589\n",
      "Data collected for hermanus. 43/589\n",
      "Data collected for pochutla. 44/589\n",
      "Data collected for jamestown. 45/589\n",
      "Data collected for castro. 46/589\n",
      "Data collected for ponta do sol. 47/589\n",
      "Data collected for fukue. 48/589\n",
      "Data collected for rikitea. 49/589\n",
      "Data collected for hambantota. 50/589\n",
      "Data collected for arraial do cabo. 51/589\n",
      "karamea not found. 52/589\n",
      "Data collected for vestmanna. 53/589\n",
      "Data collected for leningradskiy. 54/589\n",
      "reefton not found. 55/589\n",
      "Data collected for okha. 56/589\n",
      "Data collected for saint george. 57/589\n",
      "Data collected for punta arenas. 58/589\n",
      "Data collected for puerto ayora. 59/589\n",
      "Data collected for soc trang. 60/589\n",
      "Data collected for grand gaube. 61/589\n",
      "Data collected for clyde river. 62/589\n",
      "Data collected for new norfolk. 63/589\n",
      "Data collected for korla. 64/589\n",
      "Data collected for mehamn. 65/589\n",
      "bolungarvik not found. 66/589\n",
      "tumannyy not found. 67/589\n",
      "Data collected for maniitsoq. 68/589\n",
      "Data collected for cochabamba. 69/589\n",
      "Data collected for college. 70/589\n",
      "Data collected for luderitz. 71/589\n",
      "Data collected for tasiilaq. 72/589\n",
      "Data collected for mataura. 73/589\n",
      "Data collected for thompson. 74/589\n",
      "Data collected for tura. 75/589\n",
      "Data collected for namibe. 76/589\n",
      "saleaula not found. 77/589\n",
      "Data collected for kosa. 78/589\n",
      "Data collected for lebu. 79/589\n",
      "Data collected for sorland. 80/589\n",
      "Data collected for kerrville. 81/589\n",
      "Data collected for iqaluit. 82/589\n",
      "Data collected for saint-philippe. 83/589\n",
      "Data collected for rock springs. 84/589\n",
      "Data collected for valparaiso. 85/589\n",
      "Data collected for caravelas. 86/589\n",
      "Data collected for sumbe. 87/589\n",
      "Data collected for balykshi. 88/589\n",
      "illoqqortoormiut not found. 89/589\n",
      "Data collected for bengkulu. 90/589\n",
      "Data collected for busselton. 91/589\n",
      "Data collected for manicore. 92/589\n",
      "Data collected for charters towers. 93/589\n",
      "Data collected for puerto del rosario. 94/589\n",
      "Data collected for carnarvon. 95/589\n",
      "Data collected for hithadhoo. 96/589\n",
      "Data collected for narsaq. 97/589\n",
      "Data collected for port elizabeth. 98/589\n",
      "nizhneyansk not found. 99/589\n",
      "Data collected for faanui. 100/589\n",
      "Data collected for hervey bay. 101/589\n",
      "Data collected for gari. 102/589\n",
      "Data collected for atuona. 103/589\n",
      "Data collected for ilulissat. 104/589\n",
      "Data collected for roald. 105/589\n",
      "Data collected for quelimane. 106/589\n",
      "Data collected for wattegama. 107/589\n",
      "Data collected for fairbanks. 108/589\n",
      "Data collected for mayo. 109/589\n",
      "Data collected for vaini. 110/589\n",
      "barentsburg not found. 111/589\n",
      "Data collected for krasnoselkup. 112/589\n",
      "Data collected for chuy. 113/589\n",
      "Data collected for laibin. 114/589\n",
      "Data collected for katsuura. 115/589\n",
      "Data collected for lagoa. 116/589\n",
      "Data collected for jumla. 117/589\n",
      "Data collected for tiksi. 118/589\n",
      "Data collected for yellowknife. 119/589\n",
      "Data collected for kodiak. 120/589\n",
      "Data collected for dire dawa. 121/589\n",
      "Data collected for brigantine. 122/589\n",
      "Data collected for sao filipe. 123/589\n",
      "Data collected for yulara. 124/589\n",
      "Data collected for asheboro. 125/589\n",
      "Data collected for ribeira grande. 126/589\n",
      "Data collected for port blair. 127/589\n",
      "Data collected for udachnyy. 128/589\n",
      "Data collected for aklavik. 129/589\n",
      "mendahara not found. 130/589\n",
      "Data collected for ochakiv. 131/589\n",
      "Data collected for biga. 132/589\n",
      "Data collected for jibuti. 133/589\n",
      "Data collected for saskylakh. 134/589\n",
      "Data collected for neiba. 135/589\n",
      "Data collected for sur. 136/589\n",
      "Data collected for chokurdakh. 137/589\n",
      "Data collected for avarua. 138/589\n",
      "Data collected for magadan. 139/589\n",
      "vaitupu not found. 140/589\n",
      "Data collected for kaitangata. 141/589\n",
      "Data collected for turukhansk. 142/589\n",
      "Data collected for tuktoyaktuk. 143/589\n",
      "Data collected for maltahohe. 144/589\n",
      "Data collected for mandalgovi. 145/589\n",
      "tsihombe not found. 146/589\n",
      "Data collected for pisco. 147/589\n",
      "Data collected for alto araguaia. 148/589\n",
      "Data collected for pascagoula. 149/589\n",
      "Data collected for raudeberg. 150/589\n",
      "cagayan de tawi-tawi not found. 151/589\n",
      "chagda not found. 152/589\n",
      "Data collected for daru. 153/589\n",
      "Data collected for tuatapere. 154/589\n",
      "Data collected for coracora. 155/589\n",
      "Data collected for tevaitoa. 156/589\n",
      "Data collected for lompoc. 157/589\n",
      "Data collected for upernavik. 158/589\n",
      "palabuhanratu not found. 159/589\n",
      "Data collected for vestmannaeyjar. 160/589\n",
      "Data collected for elizabeth city. 161/589\n",
      "Data collected for talnakh. 162/589\n",
      "Data collected for sitka. 163/589\n",
      "Data collected for victoria. 164/589\n",
      "Data collected for foz. 165/589\n",
      "Data collected for makakilo city. 166/589\n",
      "Data collected for abha. 167/589\n",
      "Data collected for dikson. 168/589\n",
      "Data collected for kholm. 169/589\n",
      "Data collected for teahupoo. 170/589\n",
      "Data collected for beyneu. 171/589\n",
      "sentyabrskiy not found. 172/589\n",
      "Data collected for okhotsk. 173/589\n",
      "Data collected for port-gentil. 174/589\n",
      "Data collected for georgetown. 175/589\n",
      "Data collected for hofn. 176/589\n",
      "taolanaro not found. 177/589\n",
      "Data collected for cairns. 178/589\n",
      "Data collected for raahe. 179/589\n",
      "Data collected for naze. 180/589\n",
      "Data collected for carballo. 181/589\n",
      "Data collected for sola. 182/589\n",
      "viligili not found. 183/589\n",
      "Data collected for yuli. 184/589\n",
      "Data collected for kibala. 185/589\n",
      "Data collected for isangel. 186/589\n",
      "Data collected for foligno. 187/589\n",
      "Data collected for krasnyy oktyabr. 188/589\n",
      "Data collected for axim. 189/589\n",
      "Data collected for methoni. 190/589\n",
      "Data collected for bonthe. 191/589\n",
      "Data collected for rafaela. 192/589\n",
      "Data collected for pacific grove. 193/589\n",
      "Data collected for lorengau. 194/589\n",
      "Data collected for prince rupert. 195/589\n",
      "Data collected for khash. 196/589\n",
      "tapaua not found. 197/589\n",
      "Data collected for swan river. 198/589\n",
      "Data collected for rongcheng. 199/589\n",
      "Data collected for pierre. 200/589\n",
      "Data collected for port arthur. 201/589\n",
      "Data collected for atar. 202/589\n",
      "Data collected for tyup. 203/589\n",
      "Data collected for portland. 204/589\n",
      "dinsor not found. 205/589\n",
      "Data collected for husavik. 206/589\n",
      "Data collected for newport. 207/589\n",
      "Data collected for albanel. 208/589\n",
      "Data collected for saint-joseph. 209/589\n",
      "Data collected for muroto. 210/589\n",
      "Data collected for mount gambier. 211/589\n",
      "Data collected for poum. 212/589\n",
      "Data collected for keti bandar. 213/589\n",
      "handwara not found. 214/589\n",
      "Data collected for linkou. 215/589\n",
      "Data collected for waipawa. 216/589\n",
      "Data collected for singarayakonda. 217/589\n",
      "Data collected for nikolskoye. 218/589\n",
      "Data collected for rosbach. 219/589\n",
      "Data collected for hilo. 220/589\n",
      "Data collected for manikganj. 221/589\n",
      "Data collected for baruun-urt. 222/589\n",
      "Data collected for resistencia. 223/589\n",
      "Data collected for norman wells. 224/589\n",
      "Data collected for la seyne-sur-mer. 225/589\n",
      "Data collected for port macquarie. 226/589\n",
      "Data collected for townsville. 227/589\n",
      "Data collected for qianan. 228/589\n",
      "Data collected for honningsvag. 229/589\n",
      "Data collected for torbay. 230/589\n",
      "Data collected for saraj. 231/589\n",
      "Data collected for mar del plata. 232/589\n",
      "Data collected for nouadhibou. 233/589\n",
      "Data collected for camacha. 234/589\n",
      "kuche not found. 235/589\n",
      "Data collected for cabo san lucas. 236/589\n",
      "Data collected for hay river. 237/589\n",
      "Data collected for sao joao da barra. 238/589\n",
      "Data collected for shingu. 239/589\n",
      "Data collected for kahului. 240/589\n",
      "Data collected for tangi. 241/589\n",
      "Data collected for fort nelson. 242/589\n",
      "Data collected for vanimo. 243/589\n",
      "Data collected for west bay. 244/589\n",
      "Data collected for kendari. 245/589\n",
      "Data collected for terrace. 246/589\n",
      "Data collected for altamira. 247/589\n",
      "Data collected for lahan. 248/589\n",
      "Data collected for los llanos de aridane. 249/589\n",
      "Data collected for puerto baquerizo moreno. 250/589\n",
      "Data collected for ushtobe. 251/589\n",
      "Data collected for narasimharajapura. 252/589\n",
      "Data collected for santiago del estero. 253/589\n",
      "Data collected for cherskiy. 254/589\n",
      "Data collected for warmbad. 255/589\n",
      "attawapiskat not found. 256/589\n",
      "Data collected for kavaratti. 257/589\n",
      "Data collected for mathbaria. 258/589\n",
      "Data collected for izumo. 259/589\n",
      "Data collected for nizhnyaya omka. 260/589\n",
      "Data collected for biograd na moru. 261/589\n",
      "la gaulette not found. 262/589\n",
      "Data collected for escada. 263/589\n",
      "Data collected for port hueneme. 264/589\n",
      "Data collected for maningrida. 265/589\n",
      "Data collected for osakarovka. 266/589\n",
      "Data collected for linjiang. 267/589\n",
      "Data collected for komsomolskiy. 268/589\n",
      "Data collected for hoopstad. 269/589\n",
      "Data collected for noyabrsk. 270/589\n",
      "Data collected for tiznit. 271/589\n",
      "doctor pedro p. pena not found. 272/589\n",
      "Data collected for freeport. 273/589\n",
      "Data collected for berlevag. 274/589\n",
      "Data collected for marawi. 275/589\n",
      "Data collected for pemangkat. 276/589\n",
      "warqla not found. 277/589\n",
      "Data collected for esperance. 278/589\n",
      "Data collected for nizhneangarsk. 279/589\n",
      "Data collected for mosquera. 280/589\n",
      "Data collected for bathsheba. 281/589\n",
      "Data collected for armizonskoye. 282/589\n",
      "rawannawi not found. 283/589\n",
      "Data collected for verkhoyansk. 284/589\n",
      "Data collected for honiara. 285/589\n",
      "Data collected for teguise. 286/589\n",
      "Data collected for san felipe. 287/589\n",
      "Data collected for fortuna. 288/589\n",
      "Data collected for the valley. 289/589\n",
      "Data collected for tongren. 290/589\n",
      "Data collected for san vicente. 291/589\n",
      "Data collected for puerto narino. 292/589\n",
      "Data collected for zabol. 293/589\n",
      "Data collected for tazovskiy. 294/589\n",
      "Data collected for oranjestad. 295/589\n",
      "Data collected for high level. 296/589\n",
      "Data collected for loubomo. 297/589\n",
      "Data collected for palmer. 298/589\n",
      "Data collected for talgar. 299/589\n",
      "Data collected for ostrovnoy. 300/589\n",
      "Data collected for abancay. 301/589\n",
      "Data collected for mount pleasant. 302/589\n",
      "Data collected for asyut. 303/589\n",
      "Data collected for theog. 304/589\n",
      "Data collected for safaga. 305/589\n",
      "dianopolis not found. 306/589\n",
      "Data collected for kouroussa. 307/589\n",
      "meyungs not found. 308/589\n",
      "Data collected for chinsali. 309/589\n",
      "Data collected for juneau. 310/589\n",
      "paradwip not found. 311/589\n",
      "Data collected for nome. 312/589\n",
      "Data collected for mahajanga. 313/589\n",
      "Data collected for boueni. 314/589\n",
      "Data collected for borgo san lorenzo. 315/589\n",
      "Data collected for yantarnyy. 316/589\n",
      "Data collected for kushmurun. 317/589\n",
      "Data collected for qiongshan. 318/589\n",
      "Data collected for hammerfest. 319/589\n",
      "Data collected for laguna. 320/589\n",
      "Data collected for tual. 321/589\n",
      "Data collected for llanes. 322/589\n",
      "lolua not found. 323/589\n",
      "Data collected for ust-kulom. 324/589\n",
      "Data collected for sechura. 325/589\n",
      "Data collected for hualmay. 326/589\n",
      "ambodifototra not found. 327/589\n",
      "Data collected for izhma. 328/589\n",
      "bolshiye uki not found. 329/589\n",
      "Data collected for north bend. 330/589\n",
      "Data collected for algiers. 331/589\n",
      "Data collected for auki. 332/589\n",
      "Data collected for hanover. 333/589\n",
      "Data collected for tambopata. 334/589\n",
      "Data collected for varhaug. 335/589\n",
      "tawkar not found. 336/589\n",
      "Data collected for sungaipenuh. 337/589\n",
      "Data collected for nabire. 338/589\n",
      "Data collected for isla vista. 339/589\n",
      "Data collected for thinadhoo. 340/589\n",
      "Data collected for airai. 341/589\n",
      "Data collected for inhambane. 342/589\n",
      "Data collected for gat. 343/589\n",
      "Data collected for ballina. 344/589\n",
      "Data collected for dali. 345/589\n",
      "Data collected for beira. 346/589\n",
      "Data collected for jinka. 347/589\n",
      "Data collected for bardiyah. 348/589\n",
      "Data collected for sao felix do xingu. 349/589\n",
      "Data collected for voh. 350/589\n",
      "Data collected for bambous virieux. 351/589\n",
      "Data collected for dunedin. 352/589\n",
      "Data collected for yeppoon. 353/589\n",
      "lar gerd not found. 354/589\n",
      "Data collected for wanxian. 355/589\n",
      "Data collected for mantua. 356/589\n",
      "Data collected for haines junction. 357/589\n",
      "Data collected for lasa. 358/589\n",
      "Data collected for trelleborg. 359/589\n",
      "mys shmidta not found. 360/589\n",
      "Data collected for zhezkazgan. 361/589\n",
      "Data collected for tikamgarh. 362/589\n",
      "Data collected for srednekolymsk. 363/589\n",
      "Data collected for pucara. 364/589\n",
      "Data collected for klichka. 365/589\n",
      "Data collected for timizart. 366/589\n",
      "halalo not found. 367/589\n",
      "Data collected for huanan. 368/589\n",
      "Data collected for takestan. 369/589\n",
      "Data collected for aksarka. 370/589\n",
      "Data collected for sadovoye. 371/589\n",
      "Data collected for seguin. 372/589\n",
      "lushunkou not found. 373/589\n",
      "teneguiban not found. 374/589\n",
      "Data collected for yumen. 375/589\n",
      "Data collected for banda aceh. 376/589\n",
      "Data collected for belyy yar. 377/589\n",
      "Data collected for cidreira. 378/589\n",
      "Data collected for alyangula. 379/589\n",
      "aflu not found. 380/589\n",
      "Data collected for araouane. 381/589\n",
      "Data collected for coquimbo. 382/589\n",
      "Data collected for phuket. 383/589\n",
      "Data collected for kamenka. 384/589\n",
      "Data collected for lac du bonnet. 385/589\n",
      "Data collected for salalah. 386/589\n",
      "ardistan not found. 387/589\n",
      "marcona not found. 388/589\n",
      "Data collected for kaduy. 389/589\n",
      "Data collected for hasaki. 390/589\n",
      "Data collected for vaitape. 391/589\n",
      "Data collected for kumluca. 392/589\n",
      "Data collected for rach gia. 393/589\n",
      "Data collected for peleduy. 394/589\n",
      "Data collected for mangrol. 395/589\n",
      "Data collected for samarai. 396/589\n",
      "Data collected for ixtapa. 397/589\n",
      "Data collected for barra patuca. 398/589\n",
      "Data collected for marsh harbour. 399/589\n",
      "Data collected for vostok. 400/589\n",
      "Data collected for dudinka. 401/589\n",
      "Data collected for puerto escondido. 402/589\n",
      "Data collected for vanavara. 403/589\n",
      "Data collected for ayan. 404/589\n",
      "Data collected for korem. 405/589\n",
      "Data collected for ziro. 406/589\n",
      "Data collected for kabompo. 407/589\n",
      "Data collected for mengcheng. 408/589\n",
      "Data collected for vila velha. 409/589\n",
      "Data collected for eagle pass. 410/589\n",
      "Data collected for kijang. 411/589\n",
      "Data collected for riyadh. 412/589\n",
      "Data collected for tarakan. 413/589\n",
      "Data collected for vardo. 414/589\n",
      "Data collected for gigmoto. 415/589\n",
      "Data collected for sawakin. 416/589\n",
      "Data collected for nara. 417/589\n",
      "Data collected for pervomayskoye. 418/589\n",
      "Data collected for souillac. 419/589\n",
      "Data collected for san policarpo. 420/589\n",
      "Data collected for san cristobal. 421/589\n",
      "Data collected for luanda. 422/589\n",
      "Data collected for sinnamary. 423/589\n",
      "Data collected for hurricane. 424/589\n",
      "Data collected for kalevala. 425/589\n",
      "Data collected for chapais. 426/589\n",
      "Data collected for pryozerne. 427/589\n",
      "Data collected for gannan. 428/589\n",
      "Data collected for baldwin. 429/589\n",
      "Data collected for ossora. 430/589\n",
      "Data collected for diamantino. 431/589\n",
      "Data collected for san patricio. 432/589\n",
      "Data collected for oriximina. 433/589\n",
      "Data collected for ojinaga. 434/589\n",
      "Data collected for arrifes. 435/589\n",
      "Data collected for port lincoln. 436/589\n",
      "ilinsko-podomskoye not found. 437/589\n",
      "jahrom not found. 438/589\n",
      "Data collected for kayerkan. 439/589\n",
      "Data collected for kirakira. 440/589\n",
      "Data collected for mukhen. 441/589\n",
      "Data collected for jalu. 442/589\n",
      "Data collected for hamilton. 443/589\n",
      "Data collected for labuhan. 444/589\n",
      "Data collected for fez. 445/589\n",
      "Data collected for chara. 446/589\n",
      "Data collected for brezova pod bradlom. 447/589\n",
      "Data collected for zamora. 448/589\n",
      "Data collected for cruzilia. 449/589\n",
      "Data collected for nagato. 450/589\n",
      "Data collected for porto walter. 451/589\n",
      "Data collected for awjilah. 452/589\n",
      "Data collected for lumeje. 453/589\n",
      "Data collected for alice springs. 454/589\n",
      "Data collected for emerald. 455/589\n",
      "Data collected for rawson. 456/589\n",
      "Data collected for constitucion. 457/589\n",
      "Data collected for baykit. 458/589\n",
      "Data collected for koumac. 459/589\n",
      "Data collected for itarema. 460/589\n",
      "Data collected for beipiao. 461/589\n",
      "Data collected for ciudad bolivar. 462/589\n",
      "Data collected for padang. 463/589\n",
      "Data collected for ancud. 464/589\n",
      "Data collected for vieux-habitants. 465/589\n",
      "Data collected for khani. 466/589\n",
      "Data collected for qaanaaq. 467/589\n",
      "Data collected for brae. 468/589\n",
      "Data collected for fonte boa. 469/589\n",
      "grand river south east not found. 470/589\n",
      "Data collected for lyuban. 471/589\n",
      "Data collected for senftenberg. 472/589\n",
      "Data collected for la ronge. 473/589\n",
      "Data collected for zhangye. 474/589\n",
      "Data collected for aripuana. 475/589\n",
      "samusu not found. 476/589\n",
      "Data collected for batagay-alyta. 477/589\n",
      "Data collected for pasaje. 478/589\n",
      "Data collected for bandarbeyla. 479/589\n",
      "Data collected for funadhoo. 480/589\n",
      "Data collected for krasavino. 481/589\n",
      "Data collected for matara. 482/589\n",
      "Data collected for sao francisco de paula. 483/589\n",
      "Data collected for chiquinquira. 484/589\n",
      "Data collected for mashhad. 485/589\n",
      "Data collected for muswellbrook. 486/589\n",
      "Data collected for corumba. 487/589\n",
      "Data collected for ipixuna. 488/589\n",
      "Data collected for naryan-mar. 489/589\n",
      "tabiauea not found. 490/589\n",
      "Data collected for nanortalik. 491/589\n",
      "Data collected for odienne. 492/589\n",
      "Data collected for syracuse. 493/589\n",
      "Data collected for barranca. 494/589\n",
      "Data collected for hovd. 495/589\n",
      "Data collected for marienburg. 496/589\n",
      "Data collected for necochea. 497/589\n",
      "Data collected for yerbogachen. 498/589\n",
      "Data collected for san jose. 499/589\n",
      "Data collected for surgut. 500/589\n",
      "Data collected for salinopolis. 501/589\n",
      "Data collected for lubango. 502/589\n",
      "Data collected for evensk. 503/589\n",
      "Data collected for eureka. 504/589\n",
      "Data collected for akhtanizovskaya. 505/589\n",
      "Data collected for pudozh. 506/589\n",
      "Data collected for sibolga. 507/589\n",
      "Data collected for carutapera. 508/589\n",
      "Data collected for katobu. 509/589\n",
      "Data collected for hearst. 510/589\n",
      "Data collected for port hardy. 511/589\n",
      "Data collected for miyako. 512/589\n",
      "Data collected for kungurtug. 513/589\n",
      "Data collected for flinders. 514/589\n",
      "Data collected for bahia blanca. 515/589\n",
      "patratu not found. 516/589\n",
      "geresk not found. 517/589\n",
      "Data collected for lata. 518/589\n",
      "Data collected for temozon. 519/589\n",
      "Data collected for adrar. 520/589\n",
      "Data collected for coihaique. 521/589\n",
      "Data collected for nuuk. 522/589\n",
      "Data collected for imbituba. 523/589\n",
      "Data collected for telfs. 524/589\n",
      "Data collected for myaundzha. 525/589\n",
      "Data collected for fort-shevchenko. 526/589\n",
      "Data collected for lloydminster. 527/589\n",
      "Data collected for kitui. 528/589\n",
      "Data collected for zhigansk. 529/589\n",
      "Data collected for progreso. 530/589\n",
      "mohiuddinagar not found. 531/589\n",
      "Data collected for santa rosa. 532/589\n",
      "Data collected for santa cruz. 533/589\n",
      "Data collected for banjar. 534/589\n",
      "Data collected for codrington. 535/589\n",
      "Data collected for sterlibashevo. 536/589\n",
      "Data collected for sardinata. 537/589\n",
      "Data collected for maloy. 538/589\n",
      "Data collected for tifton. 539/589\n",
      "Data collected for coolum beach. 540/589\n",
      "Data collected for le pont-de-claix. 541/589\n",
      "Data collected for kieta. 542/589\n",
      "Data collected for bom jesus. 543/589\n",
      "Data collected for cap malheureux. 544/589\n",
      "Data collected for dano. 545/589\n",
      "Data collected for dzilam gonzalez. 546/589\n",
      "Data collected for chaman. 547/589\n",
      "Data collected for parfenyevo. 548/589\n",
      "Data collected for campbell river. 549/589\n",
      "Data collected for manaure. 550/589\n",
      "Data collected for beringovskiy. 551/589\n",
      "Data collected for launceston. 552/589\n",
      "Data collected for corrales. 553/589\n",
      "Data collected for puerto lopez. 554/589\n",
      "Data collected for palauig. 555/589\n",
      "Data collected for saldanha. 556/589\n",
      "Data collected for luoyang. 557/589\n",
      "Data collected for le chambon-feugerolles. 558/589\n",
      "Data collected for montepuez. 559/589\n",
      "Data collected for paamiut. 560/589\n",
      "Data collected for kenora. 561/589\n",
      "Data collected for faya. 562/589\n",
      "Data collected for aitape. 563/589\n",
      "Data collected for andros town. 564/589\n",
      "Data collected for te anau. 565/589\n",
      "Data collected for olafsvik. 566/589\n",
      "Data collected for leshukonskoye. 567/589\n",
      "Data collected for trelew. 568/589\n",
      "Data collected for wuhu. 569/589\n",
      "Data collected for nouakchott. 570/589\n",
      "Data collected for bure. 571/589\n",
      "Data collected for idrinskoye. 572/589\n",
      "Data collected for champasak. 573/589\n",
      "Data collected for svetlogorsk. 574/589\n",
      "taburi not found. 575/589\n",
      "Data collected for orange cove. 576/589\n",
      "Data collected for nevel. 577/589\n",
      "Data collected for batagay. 578/589\n",
      "Data collected for ilhabela. 579/589\n",
      "gurgan not found. 580/589\n",
      "Data collected for santa cruz del sur. 581/589\n",
      "Data collected for sawtell. 582/589\n",
      "Data collected for talaya. 583/589\n",
      "Data collected for mitsamiouli. 584/589\n",
      "Data collected for lienz. 585/589\n",
      "Data collected for dutlwe. 586/589\n",
      "Data collected for buala. 587/589\n",
      "Data collected for mmabatho. 588/589\n",
      "Data collected for asau. 589/589\n"
     ]
    }
   ],
   "source": [
    "city_data = []\n",
    "for index, city_name in enumerate(cities, start=1):\n",
    "    url = f\"https://api.openweathermap.org/data/2.5/weather?q={city_name}&units=imperial&appid={weather_api_key}\"\n",
    "    try:\n",
    "        response = requests.get(url).json()\n",
    "        city_data.append({\n",
    "            \"city_name\": response[\"name\"],\n",
    "            \"long\": response[\"coord\"][\"lon\"],\n",
    "            \"lat\": response[\"coord\"][\"lat\"],\n",
    "            \"temp\": response[\"main\"][\"temp\"],\n",
    "            \"humidity\": response[\"main\"][\"humidity\"],\n",
    "            \"cloud\": response[\"clouds\"][\"all\"],\n",
    "            \"wind\": response[\"wind\"][\"speed\"]\n",
    "        })\n",
    "        print(f\"Data collected for {city_name}. {index}/{len(cities)}\")\n",
    "    except:\n",
    "       print(f\"{city_name} not found. {index}/{len(cities)}\")"
   ]
  },
  {
   "cell_type": "markdown",
   "metadata": {},
   "source": [
    "### Convert Raw Data to DataFrame\n",
    "* Export the city data into a .csv.\n",
    "* Display the DataFrame"
   ]
  },
  {
   "cell_type": "code",
   "execution_count": 5,
   "metadata": {},
   "outputs": [
    {
     "data": {
      "text/plain": [
       "533"
      ]
     },
     "execution_count": 5,
     "metadata": {},
     "output_type": "execute_result"
    }
   ],
   "source": [
    "len(city_data)"
   ]
  },
  {
   "cell_type": "code",
   "execution_count": 6,
   "metadata": {},
   "outputs": [
    {
     "data": {
      "text/html": [
       "<div>\n",
       "<style scoped>\n",
       "    .dataframe tbody tr th:only-of-type {\n",
       "        vertical-align: middle;\n",
       "    }\n",
       "\n",
       "    .dataframe tbody tr th {\n",
       "        vertical-align: top;\n",
       "    }\n",
       "\n",
       "    .dataframe thead th {\n",
       "        text-align: right;\n",
       "    }\n",
       "</style>\n",
       "<table border=\"1\" class=\"dataframe\">\n",
       "  <thead>\n",
       "    <tr style=\"text-align: right;\">\n",
       "      <th></th>\n",
       "      <th>city_name</th>\n",
       "      <th>long</th>\n",
       "      <th>lat</th>\n",
       "      <th>temp</th>\n",
       "      <th>humidity</th>\n",
       "      <th>cloud</th>\n",
       "      <th>wind</th>\n",
       "    </tr>\n",
       "  </thead>\n",
       "  <tbody>\n",
       "    <tr>\n",
       "      <th>0</th>\n",
       "      <td>Grindavik</td>\n",
       "      <td>-22.4338</td>\n",
       "      <td>63.8424</td>\n",
       "      <td>50.47</td>\n",
       "      <td>100</td>\n",
       "      <td>100</td>\n",
       "      <td>9.22</td>\n",
       "    </tr>\n",
       "    <tr>\n",
       "      <th>1</th>\n",
       "      <td>Pangnirtung</td>\n",
       "      <td>-65.7125</td>\n",
       "      <td>66.1451</td>\n",
       "      <td>46.87</td>\n",
       "      <td>93</td>\n",
       "      <td>95</td>\n",
       "      <td>4.27</td>\n",
       "    </tr>\n",
       "    <tr>\n",
       "      <th>2</th>\n",
       "      <td>Provideniya</td>\n",
       "      <td>-173.3000</td>\n",
       "      <td>64.3833</td>\n",
       "      <td>49.01</td>\n",
       "      <td>71</td>\n",
       "      <td>48</td>\n",
       "      <td>3.89</td>\n",
       "    </tr>\n",
       "    <tr>\n",
       "      <th>3</th>\n",
       "      <td>East London</td>\n",
       "      <td>27.9116</td>\n",
       "      <td>-33.0153</td>\n",
       "      <td>65.34</td>\n",
       "      <td>88</td>\n",
       "      <td>75</td>\n",
       "      <td>5.75</td>\n",
       "    </tr>\n",
       "    <tr>\n",
       "      <th>4</th>\n",
       "      <td>Cape Town</td>\n",
       "      <td>18.4232</td>\n",
       "      <td>-33.9258</td>\n",
       "      <td>57.34</td>\n",
       "      <td>83</td>\n",
       "      <td>0</td>\n",
       "      <td>11.50</td>\n",
       "    </tr>\n",
       "  </tbody>\n",
       "</table>\n",
       "</div>"
      ],
      "text/plain": [
       "     city_name      long      lat   temp  humidity  cloud   wind\n",
       "0    Grindavik  -22.4338  63.8424  50.47       100    100   9.22\n",
       "1  Pangnirtung  -65.7125  66.1451  46.87        93     95   4.27\n",
       "2  Provideniya -173.3000  64.3833  49.01        71     48   3.89\n",
       "3  East London   27.9116 -33.0153  65.34        88     75   5.75\n",
       "4    Cape Town   18.4232 -33.9258  57.34        83      0  11.50"
      ]
     },
     "execution_count": 6,
     "metadata": {},
     "output_type": "execute_result"
    }
   ],
   "source": [
    "cities_df = pd.DataFrame(city_data)\n",
    "cities_df.to_csv(\"cities_table.csv\",index=False)\n",
    "cities_df.head(5)"
   ]
  },
  {
   "cell_type": "code",
   "execution_count": 7,
   "metadata": {},
   "outputs": [
    {
     "data": {
      "text/html": [
       "<div>\n",
       "<style scoped>\n",
       "    .dataframe tbody tr th:only-of-type {\n",
       "        vertical-align: middle;\n",
       "    }\n",
       "\n",
       "    .dataframe tbody tr th {\n",
       "        vertical-align: top;\n",
       "    }\n",
       "\n",
       "    .dataframe thead th {\n",
       "        text-align: right;\n",
       "    }\n",
       "</style>\n",
       "<table border=\"1\" class=\"dataframe\">\n",
       "  <thead>\n",
       "    <tr style=\"text-align: right;\">\n",
       "      <th></th>\n",
       "      <th>long</th>\n",
       "      <th>lat</th>\n",
       "      <th>temp</th>\n",
       "      <th>humidity</th>\n",
       "      <th>cloud</th>\n",
       "      <th>wind</th>\n",
       "    </tr>\n",
       "  </thead>\n",
       "  <tbody>\n",
       "    <tr>\n",
       "      <th>count</th>\n",
       "      <td>533.000000</td>\n",
       "      <td>533.000000</td>\n",
       "      <td>533.000000</td>\n",
       "      <td>533.000000</td>\n",
       "      <td>533.000000</td>\n",
       "      <td>533.000000</td>\n",
       "    </tr>\n",
       "    <tr>\n",
       "      <th>mean</th>\n",
       "      <td>18.343725</td>\n",
       "      <td>21.270877</td>\n",
       "      <td>66.526848</td>\n",
       "      <td>69.393996</td>\n",
       "      <td>52.198874</td>\n",
       "      <td>7.753002</td>\n",
       "    </tr>\n",
       "    <tr>\n",
       "      <th>std</th>\n",
       "      <td>91.438016</td>\n",
       "      <td>33.765843</td>\n",
       "      <td>15.048506</td>\n",
       "      <td>21.148742</td>\n",
       "      <td>39.291443</td>\n",
       "      <td>5.101177</td>\n",
       "    </tr>\n",
       "    <tr>\n",
       "      <th>min</th>\n",
       "      <td>-175.200000</td>\n",
       "      <td>-54.800000</td>\n",
       "      <td>28.580000</td>\n",
       "      <td>6.000000</td>\n",
       "      <td>0.000000</td>\n",
       "      <td>0.000000</td>\n",
       "    </tr>\n",
       "    <tr>\n",
       "      <th>25%</th>\n",
       "      <td>-65.102300</td>\n",
       "      <td>-8.767600</td>\n",
       "      <td>53.290000</td>\n",
       "      <td>58.000000</td>\n",
       "      <td>10.000000</td>\n",
       "      <td>3.710000</td>\n",
       "    </tr>\n",
       "    <tr>\n",
       "      <th>50%</th>\n",
       "      <td>24.200800</td>\n",
       "      <td>28.017000</td>\n",
       "      <td>69.100000</td>\n",
       "      <td>75.000000</td>\n",
       "      <td>56.000000</td>\n",
       "      <td>6.800000</td>\n",
       "    </tr>\n",
       "    <tr>\n",
       "      <th>75%</th>\n",
       "      <td>98.779200</td>\n",
       "      <td>49.816700</td>\n",
       "      <td>78.440000</td>\n",
       "      <td>85.000000</td>\n",
       "      <td>95.000000</td>\n",
       "      <td>10.360000</td>\n",
       "    </tr>\n",
       "    <tr>\n",
       "      <th>max</th>\n",
       "      <td>179.316700</td>\n",
       "      <td>78.218600</td>\n",
       "      <td>98.740000</td>\n",
       "      <td>100.000000</td>\n",
       "      <td>100.000000</td>\n",
       "      <td>25.460000</td>\n",
       "    </tr>\n",
       "  </tbody>\n",
       "</table>\n",
       "</div>"
      ],
      "text/plain": [
       "             long         lat        temp    humidity       cloud        wind\n",
       "count  533.000000  533.000000  533.000000  533.000000  533.000000  533.000000\n",
       "mean    18.343725   21.270877   66.526848   69.393996   52.198874    7.753002\n",
       "std     91.438016   33.765843   15.048506   21.148742   39.291443    5.101177\n",
       "min   -175.200000  -54.800000   28.580000    6.000000    0.000000    0.000000\n",
       "25%    -65.102300   -8.767600   53.290000   58.000000   10.000000    3.710000\n",
       "50%     24.200800   28.017000   69.100000   75.000000   56.000000    6.800000\n",
       "75%     98.779200   49.816700   78.440000   85.000000   95.000000   10.360000\n",
       "max    179.316700   78.218600   98.740000  100.000000  100.000000   25.460000"
      ]
     },
     "execution_count": 7,
     "metadata": {},
     "output_type": "execute_result"
    }
   ],
   "source": [
    "cities_df.describe()"
   ]
  },
  {
   "cell_type": "markdown",
   "metadata": {},
   "source": [
    "## Inspect the data and remove the cities where the humidity > 100%.\n",
    "----\n",
    "Skip this step if there are no cities that have humidity > 100%. "
   ]
  },
  {
   "cell_type": "code",
   "execution_count": 10,
   "metadata": {},
   "outputs": [
    {
     "data": {
      "text/html": [
       "<div>\n",
       "<style scoped>\n",
       "    .dataframe tbody tr th:only-of-type {\n",
       "        vertical-align: middle;\n",
       "    }\n",
       "\n",
       "    .dataframe tbody tr th {\n",
       "        vertical-align: top;\n",
       "    }\n",
       "\n",
       "    .dataframe thead th {\n",
       "        text-align: right;\n",
       "    }\n",
       "</style>\n",
       "<table border=\"1\" class=\"dataframe\">\n",
       "  <thead>\n",
       "    <tr style=\"text-align: right;\">\n",
       "      <th></th>\n",
       "      <th>city_name</th>\n",
       "      <th>long</th>\n",
       "      <th>lat</th>\n",
       "      <th>temp</th>\n",
       "      <th>humidity</th>\n",
       "      <th>cloud</th>\n",
       "      <th>wind</th>\n",
       "    </tr>\n",
       "  </thead>\n",
       "  <tbody>\n",
       "  </tbody>\n",
       "</table>\n",
       "</div>"
      ],
      "text/plain": [
       "Empty DataFrame\n",
       "Columns: [city_name, long, lat, temp, humidity, cloud, wind]\n",
       "Index: []"
      ]
     },
     "execution_count": 10,
     "metadata": {},
     "output_type": "execute_result"
    }
   ],
   "source": [
    "cities_df[cities_df[\"humidity\"] > 100]"
   ]
  },
  {
   "cell_type": "code",
   "execution_count": 6,
   "metadata": {},
   "outputs": [
    {
     "data": {
      "text/html": [
       "<div>\n",
       "<style scoped>\n",
       "    .dataframe tbody tr th:only-of-type {\n",
       "        vertical-align: middle;\n",
       "    }\n",
       "\n",
       "    .dataframe tbody tr th {\n",
       "        vertical-align: top;\n",
       "    }\n",
       "\n",
       "    .dataframe thead th {\n",
       "        text-align: right;\n",
       "    }\n",
       "</style>\n",
       "<table border=\"1\" class=\"dataframe\">\n",
       "  <thead>\n",
       "    <tr style=\"text-align: right;\">\n",
       "      <th></th>\n",
       "      <th>Lat</th>\n",
       "      <th>Lng</th>\n",
       "      <th>Max Temp</th>\n",
       "      <th>Humidity</th>\n",
       "      <th>Cloudiness</th>\n",
       "      <th>Wind Speed</th>\n",
       "      <th>Date</th>\n",
       "    </tr>\n",
       "  </thead>\n",
       "  <tbody>\n",
       "    <tr>\n",
       "      <th>count</th>\n",
       "      <td>550.000000</td>\n",
       "      <td>550.000000</td>\n",
       "      <td>550.000000</td>\n",
       "      <td>550.000000</td>\n",
       "      <td>550.000000</td>\n",
       "      <td>550.000000</td>\n",
       "      <td>5.500000e+02</td>\n",
       "    </tr>\n",
       "    <tr>\n",
       "      <th>mean</th>\n",
       "      <td>19.973545</td>\n",
       "      <td>17.124400</td>\n",
       "      <td>58.331400</td>\n",
       "      <td>67.890909</td>\n",
       "      <td>52.141818</td>\n",
       "      <td>8.544800</td>\n",
       "      <td>1.585764e+09</td>\n",
       "    </tr>\n",
       "    <tr>\n",
       "      <th>std</th>\n",
       "      <td>33.284840</td>\n",
       "      <td>91.595451</td>\n",
       "      <td>25.795297</td>\n",
       "      <td>20.864881</td>\n",
       "      <td>35.766469</td>\n",
       "      <td>6.078869</td>\n",
       "      <td>5.539674e+01</td>\n",
       "    </tr>\n",
       "    <tr>\n",
       "      <th>min</th>\n",
       "      <td>-54.800000</td>\n",
       "      <td>-179.170000</td>\n",
       "      <td>-11.340000</td>\n",
       "      <td>9.000000</td>\n",
       "      <td>0.000000</td>\n",
       "      <td>0.160000</td>\n",
       "      <td>1.585764e+09</td>\n",
       "    </tr>\n",
       "    <tr>\n",
       "      <th>25%</th>\n",
       "      <td>-8.077500</td>\n",
       "      <td>-64.627500</td>\n",
       "      <td>42.800000</td>\n",
       "      <td>55.000000</td>\n",
       "      <td>20.000000</td>\n",
       "      <td>4.525000</td>\n",
       "      <td>1.585764e+09</td>\n",
       "    </tr>\n",
       "    <tr>\n",
       "      <th>50%</th>\n",
       "      <td>23.630000</td>\n",
       "      <td>19.635000</td>\n",
       "      <td>64.940000</td>\n",
       "      <td>72.000000</td>\n",
       "      <td>57.000000</td>\n",
       "      <td>7.325000</td>\n",
       "      <td>1.585764e+09</td>\n",
       "    </tr>\n",
       "    <tr>\n",
       "      <th>75%</th>\n",
       "      <td>48.672500</td>\n",
       "      <td>97.350000</td>\n",
       "      <td>78.800000</td>\n",
       "      <td>83.000000</td>\n",
       "      <td>86.750000</td>\n",
       "      <td>11.410000</td>\n",
       "      <td>1.585764e+09</td>\n",
       "    </tr>\n",
       "    <tr>\n",
       "      <th>max</th>\n",
       "      <td>78.220000</td>\n",
       "      <td>179.320000</td>\n",
       "      <td>102.200000</td>\n",
       "      <td>100.000000</td>\n",
       "      <td>100.000000</td>\n",
       "      <td>46.080000</td>\n",
       "      <td>1.585764e+09</td>\n",
       "    </tr>\n",
       "  </tbody>\n",
       "</table>\n",
       "</div>"
      ],
      "text/plain": [
       "              Lat         Lng    Max Temp    Humidity  Cloudiness  Wind Speed  \\\n",
       "count  550.000000  550.000000  550.000000  550.000000  550.000000  550.000000   \n",
       "mean    19.973545   17.124400   58.331400   67.890909   52.141818    8.544800   \n",
       "std     33.284840   91.595451   25.795297   20.864881   35.766469    6.078869   \n",
       "min    -54.800000 -179.170000  -11.340000    9.000000    0.000000    0.160000   \n",
       "25%     -8.077500  -64.627500   42.800000   55.000000   20.000000    4.525000   \n",
       "50%     23.630000   19.635000   64.940000   72.000000   57.000000    7.325000   \n",
       "75%     48.672500   97.350000   78.800000   83.000000   86.750000   11.410000   \n",
       "max     78.220000  179.320000  102.200000  100.000000  100.000000   46.080000   \n",
       "\n",
       "               Date  \n",
       "count  5.500000e+02  \n",
       "mean   1.585764e+09  \n",
       "std    5.539674e+01  \n",
       "min    1.585764e+09  \n",
       "25%    1.585764e+09  \n",
       "50%    1.585764e+09  \n",
       "75%    1.585764e+09  \n",
       "max    1.585764e+09  "
      ]
     },
     "execution_count": 6,
     "metadata": {},
     "output_type": "execute_result"
    }
   ],
   "source": []
  },
  {
   "cell_type": "code",
   "execution_count": 17,
   "metadata": {},
   "outputs": [
    {
     "data": {
      "text/plain": [
       "Int64Index([], dtype='int64')"
      ]
     },
     "execution_count": 17,
     "metadata": {},
     "output_type": "execute_result"
    }
   ],
   "source": [
    "#  Get the indices of cities that have humidity over 100%.\n"
   ]
  },
  {
   "cell_type": "code",
   "execution_count": 19,
   "metadata": {},
   "outputs": [
    {
     "data": {
      "text/html": [
       "<div>\n",
       "<style scoped>\n",
       "    .dataframe tbody tr th:only-of-type {\n",
       "        vertical-align: middle;\n",
       "    }\n",
       "\n",
       "    .dataframe tbody tr th {\n",
       "        vertical-align: top;\n",
       "    }\n",
       "\n",
       "    .dataframe thead th {\n",
       "        text-align: right;\n",
       "    }\n",
       "</style>\n",
       "<table border=\"1\" class=\"dataframe\">\n",
       "  <thead>\n",
       "    <tr style=\"text-align: right;\">\n",
       "      <th></th>\n",
       "      <th>City</th>\n",
       "      <th>Lat</th>\n",
       "      <th>Lng</th>\n",
       "      <th>Max Temp</th>\n",
       "      <th>Humidity</th>\n",
       "      <th>Cloudiness</th>\n",
       "      <th>Wind Speed</th>\n",
       "      <th>Country</th>\n",
       "      <th>Date</th>\n",
       "    </tr>\n",
       "  </thead>\n",
       "  <tbody>\n",
       "    <tr>\n",
       "      <td>0</td>\n",
       "      <td>butaritari</td>\n",
       "      <td>3.07</td>\n",
       "      <td>172.79</td>\n",
       "      <td>83.32</td>\n",
       "      <td>74</td>\n",
       "      <td>84</td>\n",
       "      <td>10.42</td>\n",
       "      <td>KI</td>\n",
       "      <td>1593605283</td>\n",
       "    </tr>\n",
       "    <tr>\n",
       "      <td>1</td>\n",
       "      <td>yerbogachen</td>\n",
       "      <td>61.28</td>\n",
       "      <td>108.01</td>\n",
       "      <td>79.52</td>\n",
       "      <td>58</td>\n",
       "      <td>20</td>\n",
       "      <td>7.70</td>\n",
       "      <td>RU</td>\n",
       "      <td>1593605121</td>\n",
       "    </tr>\n",
       "    <tr>\n",
       "      <td>2</td>\n",
       "      <td>cape town</td>\n",
       "      <td>-33.93</td>\n",
       "      <td>18.42</td>\n",
       "      <td>73.00</td>\n",
       "      <td>77</td>\n",
       "      <td>27</td>\n",
       "      <td>4.70</td>\n",
       "      <td>ZA</td>\n",
       "      <td>1593605039</td>\n",
       "    </tr>\n",
       "    <tr>\n",
       "      <td>3</td>\n",
       "      <td>touba</td>\n",
       "      <td>8.28</td>\n",
       "      <td>-7.68</td>\n",
       "      <td>79.97</td>\n",
       "      <td>75</td>\n",
       "      <td>82</td>\n",
       "      <td>3.58</td>\n",
       "      <td>CI</td>\n",
       "      <td>1593605284</td>\n",
       "    </tr>\n",
       "    <tr>\n",
       "      <td>4</td>\n",
       "      <td>jamestown</td>\n",
       "      <td>42.10</td>\n",
       "      <td>-79.24</td>\n",
       "      <td>64.00</td>\n",
       "      <td>88</td>\n",
       "      <td>1</td>\n",
       "      <td>6.93</td>\n",
       "      <td>US</td>\n",
       "      <td>1593605284</td>\n",
       "    </tr>\n",
       "  </tbody>\n",
       "</table>\n",
       "</div>"
      ],
      "text/plain": [
       "          City    Lat     Lng  Max Temp  Humidity  Cloudiness  Wind Speed  \\\n",
       "0   butaritari   3.07  172.79     83.32        74          84       10.42   \n",
       "1  yerbogachen  61.28  108.01     79.52        58          20        7.70   \n",
       "2    cape town -33.93   18.42     73.00        77          27        4.70   \n",
       "3        touba   8.28   -7.68     79.97        75          82        3.58   \n",
       "4    jamestown  42.10  -79.24     64.00        88           1        6.93   \n",
       "\n",
       "  Country        Date  \n",
       "0      KI  1593605283  \n",
       "1      RU  1593605121  \n",
       "2      ZA  1593605039  \n",
       "3      CI  1593605284  \n",
       "4      US  1593605284  "
      ]
     },
     "execution_count": 19,
     "metadata": {},
     "output_type": "execute_result"
    }
   ],
   "source": [
    "# Make a new DataFrame equal to the city data to drop all humidity outliers by index.\n",
    "# Passing \"inplace=False\" will make a copy of the city_data DataFrame, which we call \"clean_city_data\".\n"
   ]
  },
  {
   "cell_type": "code",
   "execution_count": null,
   "metadata": {},
   "outputs": [],
   "source": [
    "\n"
   ]
  },
  {
   "cell_type": "markdown",
   "metadata": {},
   "source": [
    "## Plotting the Data\n",
    "* Use proper labeling of the plots using plot titles (including date of analysis) and axes labels.\n",
    "* Save the plotted figures as .pngs."
   ]
  },
  {
   "cell_type": "markdown",
   "metadata": {},
   "source": [
    "## Latitude vs. Temperature Plot"
   ]
  },
  {
   "cell_type": "code",
   "execution_count": 13,
   "metadata": {},
   "outputs": [
    {
     "data": {
      "text/plain": [
       "<AxesSubplot:xlabel='lat', ylabel='temp'>"
      ]
     },
     "execution_count": 13,
     "metadata": {},
     "output_type": "execute_result"
    },
    {
     "data": {
      "image/png": "[encoded data removed]",
      "text/plain": [
       "<Figure size 432x288 with 1 Axes>"
      ]
     },
     "metadata": {
      "needs_background": "light"
     },
     "output_type": "display_data"
    }
   ],
   "source": [
    "cities_df[[\"lat\", \"temp\"]].plot.scatter(\"lat\", \"temp\")"
   ]
  },
  {
   "cell_type": "markdown",
   "metadata": {},
   "source": [
    "## Latitude vs. Humidity Plot"
   ]
  },
  {
   "cell_type": "code",
   "execution_count": 14,
   "metadata": {},
   "outputs": [
    {
     "data": {
      "text/plain": [
       "<AxesSubplot:xlabel='lat', ylabel='humidity'>"
      ]
     },
     "execution_count": 14,
     "metadata": {},
     "output_type": "execute_result"
    },
    {
     "data": {
      "image/png": "[encoded data removed]",
      "text/plain": [
       "<Figure size 432x288 with 1 Axes>"
      ]
     },
     "metadata": {
      "needs_background": "light"
     },
     "output_type": "display_data"
    }
   ],
   "source": [
    "cities_df[[\"lat\", \"humidity\"]].plot.scatter(\"lat\", \"humidity\")"
   ]
  },
  {
   "cell_type": "markdown",
   "metadata": {},
   "source": [
    "## Latitude vs. Cloudiness Plot"
   ]
  },
  {
   "cell_type": "code",
   "execution_count": 15,
   "metadata": {},
   "outputs": [
    {
     "data": {
      "text/plain": [
       "<AxesSubplot:xlabel='lat', ylabel='cloud'>"
      ]
     },
     "execution_count": 15,
     "metadata": {},
     "output_type": "execute_result"
    },
    {
     "data": {
      "image/png": "[encoded data removed]",
      "text/plain": [
       "<Figure size 432x288 with 1 Axes>"
      ]
     },
     "metadata": {
      "needs_background": "light"
     },
     "output_type": "display_data"
    }
   ],
   "source": [
    "cities_df[[\"lat\", \"cloud\"]].plot.scatter(\"lat\", \"cloud\")"
   ]
  },
  {
   "cell_type": "markdown",
   "metadata": {},
   "source": [
    "## Latitude vs. Wind Speed Plot"
   ]
  },
  {
   "cell_type": "code",
   "execution_count": 16,
   "metadata": {},
   "outputs": [
    {
     "data": {
      "text/plain": [
       "<AxesSubplot:xlabel='lat', ylabel='wind'>"
      ]
     },
     "execution_count": 16,
     "metadata": {},
     "output_type": "execute_result"
    },
    {
     "data": {
      "image/png": "[encoded data removed]",
      "text/plain": [
       "<Figure size 432x288 with 1 Axes>"
      ]
     },
     "metadata": {
      "needs_background": "light"
     },
     "output_type": "display_data"
    }
   ],
   "source": [
    "cities_df[[\"lat\", \"wind\"]].plot.scatter(\"lat\", \"wind\")"
   ]
  },
  {
   "cell_type": "markdown",
   "metadata": {},
   "source": [
    "## Linear Regression"
   ]
  },
  {
   "cell_type": "code",
   "execution_count": 24,
   "metadata": {},
   "outputs": [],
   "source": []
  },
  {
   "cell_type": "markdown",
   "metadata": {},
   "source": [
    "####  Northern Hemisphere - Max Temp vs. Latitude Linear Regression"
   ]
  },
  {
   "cell_type": "code",
   "execution_count": 26,
   "metadata": {},
   "outputs": [
    {
     "name": "stdout",
     "output_type": "stream",
     "text": [
      "LinregressResult(slope=-0.6506697755713368, intercept=92.5784978732311, rvalue=-0.7960068302692694, pvalue=6.178105618269745e-81, stderr=0.026004670736482913, intercept_stderr=1.1765233074300858)\n"
     ]
    },
    {
     "data": {
      "image/png": "[encoded data removed]",
      "text/plain": [
       "<Figure size 432x288 with 1 Axes>"
      ]
     },
     "metadata": {
      "needs_background": "light"
     },
     "output_type": "display_data"
    }
   ],
   "source": [
    "x = cities_df[cities_df[\"lat\"] > 0][\"lat\"]\n",
    "y = cities_df[cities_df[\"lat\"] > 0][\"temp\"]\n",
    "regression = linregress(x, y)\n",
    "print(regression)\n",
    "plt.scatter(x,y)\n",
    "plt.plot(x, regression.slope*x + regression.intercept, color=\"r\")\n",
    "plt.show()"
   ]
  },
  {
   "cell_type": "markdown",
   "metadata": {},
   "source": [
    "####  Southern Hemisphere - Max Temp vs. Latitude Linear Regression"
   ]
  },
  {
   "cell_type": "code",
   "execution_count": 27,
   "metadata": {},
   "outputs": [
    {
     "name": "stdout",
     "output_type": "stream",
     "text": [
      "LinregressResult(slope=0.6885745737365213, intercept=81.85671200632663, rvalue=0.7260016138950606, pvalue=5.910390458915786e-29, stderr=0.05047191248255542, intercept_stderr=1.243790513661293)\n"
     ]
    },
    {
     "data": {
      "image/png": "[encoded data removed]",
      "text/plain": [
       "<Figure size 432x288 with 1 Axes>"
      ]
     },
     "metadata": {
      "needs_background": "light"
     },
     "output_type": "display_data"
    }
   ],
   "source": [
    "x = cities_df[cities_df[\"lat\"] < 0][\"lat\"]\n",
    "y = cities_df[cities_df[\"lat\"] < 0][\"temp\"]\n",
    "regression = linregress(x, y)\n",
    "print(regression)\n",
    "plt.scatter(x,y)\n",
    "plt.plot(x, regression.slope*x + regression.intercept, color=\"r\")\n",
    "plt.show()"
   ]
  },
  {
   "cell_type": "markdown",
   "metadata": {},
   "source": [
    "####  Northern Hemisphere - Humidity (%) vs. Latitude Linear Regression"
   ]
  },
  {
   "cell_type": "code",
   "execution_count": 28,
   "metadata": {},
   "outputs": [
    {
     "name": "stdout",
     "output_type": "stream",
     "text": [
      "LinregressResult(slope=0.0670266141413657, intercept=66.36548130838445, rvalue=0.05951657447074436, pvalue=0.25738119723012953, stderr=0.05908599042721142, intercept_stderr=2.6732138078056313)\n"
     ]
    },
    {
     "data": {
      "image/png": "[encoded data removed]",
      "text/plain": [
       "<Figure size 432x288 with 1 Axes>"
      ]
     },
     "metadata": {
      "needs_background": "light"
     },
     "output_type": "display_data"
    }
   ],
   "source": [
    "x = cities_df[cities_df[\"lat\"] > 0][\"lat\"]\n",
    "y = cities_df[cities_df[\"lat\"] > 0][\"humidity\"]\n",
    "regression = linregress(x, y)\n",
    "print(regression)\n",
    "plt.scatter(x,y)\n",
    "plt.plot(x, regression.slope*x + regression.intercept, color=\"r\")\n",
    "plt.show()"
   ]
  },
  {
   "cell_type": "markdown",
   "metadata": {},
   "source": [
    "####  Southern Hemisphere - Humidity (%) vs. Latitude Linear Regression"
   ]
  },
  {
   "cell_type": "code",
   "execution_count": 29,
   "metadata": {},
   "outputs": [
    {
     "name": "stdout",
     "output_type": "stream",
     "text": [
      "LinregressResult(slope=-0.03139839088652598, intercept=69.37803264316679, rvalue=-0.02202897772004041, pvalue=0.7761913675968743, stderr=0.110267977929788, intercept_stderr=2.7173581931749924)\n"
     ]
    },
    {
     "data": {
      "image/png": "[encoded data removed]",
      "text/plain": [
       "<Figure size 432x288 with 1 Axes>"
      ]
     },
     "metadata": {
      "needs_background": "light"
     },
     "output_type": "display_data"
    }
   ],
   "source": [
    "x = cities_df[cities_df[\"lat\"] < 0][\"lat\"]\n",
    "y = cities_df[cities_df[\"lat\"] < 0][\"humidity\"]\n",
    "regression = linregress(x, y)\n",
    "print(regression)\n",
    "plt.scatter(x,y)\n",
    "plt.plot(x, regression.slope*x + regression.intercept, color=\"r\")\n",
    "plt.show()"
   ]
  },
  {
   "cell_type": "markdown",
   "metadata": {},
   "source": [
    "####  Northern Hemisphere - Cloudiness (%) vs. Latitude Linear Regression"
   ]
  },
  {
   "cell_type": "code",
   "execution_count": 30,
   "metadata": {},
   "outputs": [
    {
     "name": "stdout",
     "output_type": "stream",
     "text": [
      "LinregressResult(slope=0.11749716155736006, intercept=50.67262092792126, rvalue=0.05706056341979994, pvalue=0.2775734113827655, stderr=0.10805101962942562, intercept_stderr=4.888527306260303)\n"
     ]
    },
    {
     "data": {
      "image/png": "[encoded data removed]",
      "text/plain": [
       "<Figure size 432x288 with 1 Axes>"
      ]
     },
     "metadata": {
      "needs_background": "light"
     },
     "output_type": "display_data"
    }
   ],
   "source": [
    "x = cities_df[cities_df[\"lat\"] > 0][\"lat\"]\n",
    "y = cities_df[cities_df[\"lat\"] > 0][\"cloud\"]\n",
    "regression = linregress(x, y)\n",
    "print(regression)\n",
    "plt.scatter(x,y)\n",
    "plt.plot(x, regression.slope*x + regression.intercept, color=\"r\")\n",
    "plt.show()"
   ]
  },
  {
   "cell_type": "markdown",
   "metadata": {},
   "source": [
    "####  Southern Hemisphere - Cloudiness (%) vs. Latitude Linear Regression"
   ]
  },
  {
   "cell_type": "code",
   "execution_count": 31,
   "metadata": {},
   "outputs": [
    {
     "name": "stdout",
     "output_type": "stream",
     "text": [
      "LinregressResult(slope=0.08460552539032423, intercept=46.92134359804357, rvalue=0.03140595280117532, pvalue=0.6852222601407738, stderr=0.20835994403611885, intercept_stderr=5.13466023124633)\n"
     ]
    },
    {
     "data": {
      "image/png": "[encoded data removed]",
      "text/plain": [
       "<Figure size 432x288 with 1 Axes>"
      ]
     },
     "metadata": {
      "needs_background": "light"
     },
     "output_type": "display_data"
    }
   ],
   "source": [
    "x = cities_df[cities_df[\"lat\"] < 0][\"lat\"]\n",
    "y = cities_df[cities_df[\"lat\"] < 0][\"cloud\"]\n",
    "regression = linregress(x, y)\n",
    "print(regression)\n",
    "plt.scatter(x,y)\n",
    "plt.plot(x, regression.slope*x + regression.intercept, color=\"r\")\n",
    "plt.show()"
   ]
  },
  {
   "cell_type": "markdown",
   "metadata": {},
   "source": [
    "####  Northern Hemisphere - Wind Speed (mph) vs. Latitude Linear Regression"
   ]
  },
  {
   "cell_type": "code",
   "execution_count": 32,
   "metadata": {},
   "outputs": [
    {
     "name": "stdout",
     "output_type": "stream",
     "text": [
      "LinregressResult(slope=0.04454944083960649, intercept=5.815339693237013, rvalue=0.18120302925711299, pvalue=0.0005126761353457859, stderr=0.012707874233137672, intercept_stderr=0.5749394166410742)\n"
     ]
    },
    {
     "data": {
      "image/png": "[encoded data removed]",
      "text/plain": [
       "<Figure size 432x288 with 1 Axes>"
      ]
     },
     "metadata": {
      "needs_background": "light"
     },
     "output_type": "display_data"
    }
   ],
   "source": [
    "x = cities_df[cities_df[\"lat\"] > 0][\"lat\"]\n",
    "y = cities_df[cities_df[\"lat\"] > 0][\"wind\"]\n",
    "regression = linregress(x, y)\n",
    "print(regression)\n",
    "plt.scatter(x,y)\n",
    "plt.plot(x, regression.slope*x + regression.intercept, color=\"r\")\n",
    "plt.show()"
   ]
  },
  {
   "cell_type": "markdown",
   "metadata": {},
   "source": [
    "####  Southern Hemisphere - Wind Speed (mph) vs. Latitude Linear Regression"
   ]
  },
  {
   "cell_type": "code",
   "execution_count": 33,
   "metadata": {},
   "outputs": [
    {
     "name": "stdout",
     "output_type": "stream",
     "text": [
      "LinregressResult(slope=-0.016007893439260002, intercept=7.6811903605280225, rvalue=-0.03770302286939934, pvalue=0.6264888709098089, stderr=0.03283151165031233, intercept_stderr=0.80907421041223)\n"
     ]
    },
    {
     "data": {
      "image/png": "[encoded data removed]",
      "text/plain": [
       "<Figure size 432x288 with 1 Axes>"
      ]
     },
     "metadata": {
      "needs_background": "light"
     },
     "output_type": "display_data"
    }
   ],
   "source": [
    "x = cities_df[cities_df[\"lat\"] < 0][\"lat\"]\n",
    "y = cities_df[cities_df[\"lat\"] < 0][\"wind\"]\n",
    "regression = linregress(x, y)\n",
    "print(regression)\n",
    "plt.scatter(x,y)\n",
    "plt.plot(x, regression.slope*x + regression.intercept, color=\"r\")\n",
    "plt.show()"
   ]
  },
  {
   "cell_type": "code",
   "execution_count": null,
   "metadata": {},
   "outputs": [],
   "source": []
  }
 ],
 "metadata": {
  "anaconda-cloud": {},
  "kernel_info": {
   "name": "python3"
  },
  "kernelspec": {
   "display_name": "Python 3.9.7 ('base')",
   "language": "python",
   "name": "python3"
  },
  "language_info": {
   "codemirror_mode": {
    "name": "ipython",
    "version": 3
   },
   "file_extension": ".py",
   "mimetype": "text/x-python",
   "name": "python",
   "nbconvert_exporter": "python",
   "pygments_lexer": "ipython3",
   "version": "3.9.7"
  },
  "latex_envs": {
   "LaTeX_envs_menu_present": true,
   "autoclose": false,
   "autocomplete": true,
   "bibliofile": "biblio.bib",
   "cite_by": "apalike",
   "current_citInitial": 1,
   "eqLabelWithNumbers": true,
   "eqNumInitial": 1,
   "hotkeys": {
    "equation": "Ctrl-E",
    "itemize": "Ctrl-I"
   },
   "labels_anchors": false,
   "latex_user_defs": false,
   "report_style_numbering": false,
   "user_envs_cfg": false
  },
  "nteract": {
   "version": "0.12.3"
  },
  "vscode": {
   "interpreter": {
    "hash": "3071ee50c89c1c794c04ecbcb4eb8f9585468a45756c3a74d8e9479e4a2bc436"
   }
  }
 },
 "nbformat": 4,
 "nbformat_minor": 2
}
